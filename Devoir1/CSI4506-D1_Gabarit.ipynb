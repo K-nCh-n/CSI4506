{
  "cells": [
    {
      "cell_type": "markdown",
      "id": "600e880c",
      "metadata": {},
      "source": [
        "**CSI 4506 Introduction à l'Intelligence Artificielle** <br/>\n",
        "*Devoir 1 : Préparation des Données*\n",
        "\n",
        "# Identification\n",
        "\n",
        "Nom : Ken, Chan Thim <br/>\n",
        "Numéro d'étudiant : 300208086\n",
        "\n",
        "# Analyse Exploratoire\n",
        "\n",
        "## Importer les bibliothèques importantes\n"
      ]
    },
    {
      "cell_type": "code",
      "execution_count": 1,
      "id": "d9ce9db3",
      "metadata": {},
      "outputs": [],
      "source": [
        "# Votre code ici\n",
        "import pandas as pd\n",
        "import numpy as np\n",
        "import matplotlib.pyplot as plt\n",
        "import seaborn as sns"
      ]
    },
    {
      "cell_type": "markdown",
      "id": "62cf8adb",
      "metadata": {},
      "source": [
        "## Lire un de données\n",
        "\n",
        "Comme indiqué dans la description du devoir, il doit être possible pour les correcteurs d'exécuter votre notebook sans nécessiter de téléchargements.\n",
        "\n",
        "Pour faciliter l'accès à l'ensemble de données sans nécessiter de téléchargements, utilisez les données fournies dans le dépôt public GitHub et fournissez un lien vers la version brute de l'ensemble de données.\n",
        "\n",
        "Le lien vers la version brute est le suivant :\n",
        "\n",
        "*https://raw.githubusercontent.com/NOM_UTILISATEUR_GITHUB/NOM_DÉPÔT/main/NOM_JEU_DONNÉES.csv*\n",
        "\n",
        "Par exemple :\n",
        "\n",
        "[https://github.com/turcotte/csi4106-f24/blob/main/assignments-data/a1/01/glass.csv](https://github.com/turcotte/csi4106-f24/blob/main/assignments-data/a1/01/glass.csv)\n",
        "\n",
        "Maintenant, fournissez le lien vers VOTRE ensemble de données et lisez-le :\n"
      ]
    },
    {
      "cell_type": "code",
      "execution_count": null,
      "id": "50c32bcd",
      "metadata": {},
      "outputs": [],
      "source": [
        "url = \"https://raw.githubusercontent.com/K-nCh-n/CSI4506/refs/heads/main/Devoir1/datasets/01/glass.csv\" # fournissez le lien vers la version brute de l'ensemble de données. Vous devez fournir un lien vers votre propre dépôt GitHub. NE PAS utiliser le lien fourni en exemple.\n",
        "\n",
        "dataset = pd.read_csv(url)\n",
        "dataset.head()"
      ]
    },
    {
      "cell_type": "markdown",
      "id": "80599bb5",
      "metadata": {},
      "source": [
        "## Directives\n",
        "\n",
        "Les questions suivantes sont pour le Devoir 1. Sous chaque question, nous avons fourni une cellule de code initiale. Vous êtes encouragés à ajouter des cellules de code supplémentaires pour maintenir une séparation logique de votre code. Par exemple, placez la définition d'une fonction dans une cellule et son exécution dans une cellule suivante. Cette approche aidera à préserver la clarté et à améliorer la lisibilité en évitant de placer trop de code dans une seule cellule.\n",
        "\n",
        "1. **Analyse des valeurs manquantes** : Examinez les jeux de données pour identifier et évaluer les valeurs manquantes dans divers attributs. Les valeurs manquantes peuvent être représentées par des symboles tels que '?', des chaînes vides ou d'autres substituts.\n",
        "\n",
        "    1.1 Parmi les options listées, quels sont les jeux de données qui contiennent des valeurs manquantes ? Plus précisément, quel attribut ou quels attributs ont des valeurs manquantes ?\n",
        "\n",
        "    1.2 Décrivez la méthodologie utilisée pour cette investigation, et fournissez le code correspondant.\n",
        "\n",
        "    1.3 L'imputation des données consiste à remplacer les données manquantes ou incomplètes par des valeurs substituées pour préserver l'intégrité de l'ensemble de données en vue d'analyses ultérieures. Proposez des stratégies d'imputation pour chaque attribut avec des valeurs manquantes.\n"
      ]
    },
    {
      "cell_type": "code",
      "execution_count": null,
      "id": "d3d0136f",
      "metadata": {},
      "outputs": [],
      "source": [
        "dataset_directories = [\"01/glass.csv\", \"02/dermatology_database_1.csv\", \"03/Maternal%20Health%20Risk%20Data%20Set.csv\", \"04/car.data\", \"05/WineQT.csv\", \"06/16P.csv\", \"07/train.csv\"]\n",
        "for directory in dataset_directories:\n",
        "    print(f\"# Dataset: ${directory}\")\n",
        "    url = \"https://raw.githubusercontent.com/K-nCh-n/CSI4506/refs/heads/main/Devoir1/datasets/\" + directory\n",
        "    df = pd.read_csv(url)\n",
        "    print(df.info())\n",
        "    print(df.describe())\n",
        "    print('\\n-----\\n')"
      ]
    },
    {
      "cell_type": "code",
      "execution_count": 4,
      "id": "49397ed7",
      "metadata": {},
      "outputs": [],
      "source": [
        "placeholders = ['?', '', '_______', \"#F%$D@*&8\", \"-500\"] # list of placeholder values\n",
        "def find_missing_values(url):\n",
        "    df = pd.read_csv(url)\n",
        "    df.replace(placeholders, np.nan, inplace=True) # replace placeholders with NaN \n",
        "    missing_values = df.isnull().sum() # count missing values\n",
        "    if missing_values.any():\n",
        "        return missing_values[missing_values > 0]\n",
        "    else: \n",
        "        return \"No missing values in dataset\""
      ]
    },
    {
      "cell_type": "code",
      "execution_count": null,
      "id": "c8636efb",
      "metadata": {},
      "outputs": [],
      "source": [
        "for directory in dataset_directories:\n",
        "    print(f\"# Dataset: ${directory}\")\n",
        "    url = \"https://raw.githubusercontent.com/K-nCh-n/CSI4506/refs/heads/main/Devoir1/datasets/\" + directory\n",
        "    print(find_missing_values(url), end=\"\\n-----\\n\")"
      ]
    },
    {
      "cell_type": "markdown",
      "id": "b7a5af7b",
      "metadata": {},
      "source": [
        "### Methodology\n",
        "\n",
        "#### Code \n",
        "\n",
        "> To investigate which attributes have missing values in the dataset, we create a function `find_missing_values` that will perform the following:\n",
        "> - We define a list of placeholders that are used in the datasets.\n",
        "> - We first replace missing values placeholders with `np.nan`. \n",
        "> - We use `df.isnull().sum()` to find how many missing values there are in each column. `df.isnull()` gives us a dataframe with the same shape, with `True` for missing values and `False` otherwise.\n",
        "> - We can then return appropriate columns (contain missing values).\n",
        "\n",
        "#### Exploration of Dataset Sources\n",
        "\n",
        "Furthermore, if we go to the source of each dataset, we can find a description for each of them. This usually includes if the set contains missing values as well as the placeholder used. \n",
        "For instance, we find:\n",
        "\n",
        "> ##### 1. Glass Identification Data Set\n",
        "> \n",
        "> Missing Attribute Values: None\n",
        "> \n",
        "> ##### 2. Dermatology Dataset (Multi-class classification)\n",
        "> \n",
        "> Missing Attribute Values: 8 (in Age attribute). Distinguished with '?'. This represents about 2% of the values\n",
        "> \n",
        "> ##### 3. Maternal Health Risk\n",
        "> \n",
        "> Has Missing Values? No\n",
        "> \n",
        "> ##### 4. Car Evaluation\n",
        "> \n",
        "> Has Missing Values? No\n",
        "> \n",
        "> ##### 5. Wine Quality Dataset\n",
        "> \n",
        "> No information found about missing values\n",
        "> \n",
        "> ##### 6. Personality classification Data: 16 Personalities\n",
        "> \n",
        "> No information found about missing values\n",
        "> \n",
        "> ##### 7. Credit score classification\n",
        ">\n",
        "> - Name: 9985 (10%)\n",
        "> - Monthly_Inhand_Salary: 15.0k (15%)\n",
        "> - Type_of_Loan: 11.4k (11%)\n",
        "> - Num_of_Delayed_Payment: 7002 (7%)\n",
        "> - Num_Credit_Inquiries: 1965 (2%)\n",
        "> - Amount_invested_monthly: 4479 (4%)\n",
        "> - Monthly_Balance: 1200 (1%)\n",
        ">\n",
        "> We can also see from the data that different placeholder values are used for each attributes.\n",
        "> \n",
        "> - Name -> 'null'\n",
        "> - Age -> '-500' (Also contains many abnormal values(>1000) and values that end in _)\n",
        "> - Num_of_Delayed_Payment -> Contains many outliers, including negative values. Some values end in _\n",
        "> - SSN -> '#F%$D@*&8'\n",
        "> - Occupation -> '_______'\n",
        "> - Num_Bank_Accounts -> '-1' ? (Also contains rows with hundreds or even thousands)\n"
      ]
    },
    {
      "cell_type": "code",
      "execution_count": null,
      "id": "8256ae0d",
      "metadata": {},
      "outputs": [],
      "source": [
        "df_2 = pd.read_csv('https://raw.githubusercontent.com/K-nCh-n/CSI4506/refs/heads/main/Devoir1/datasets/02/dermatology_database_1.csv')\n",
        "\n",
        "df_2.replace(placeholders, np.nan, inplace=True)\n",
        "df_2.dropna(inplace=True)\n",
        "df['age'] = df['age'].astype(int)\n",
        "\n",
        "\n",
        "print(df_2['age'].mean())\n",
        "print(df_2['age'].median())\n",
        "\n",
        "sns.boxplot(x='age', data=df_2)\n",
        "plt.show()"
      ]
    },
    {
      "cell_type": "code",
      "execution_count": null,
      "id": "f40800f9",
      "metadata": {},
      "outputs": [],
      "source": [
        "df_7 = pd.read_csv('https://raw.githubusercontent.com/K-nCh-n/CSI4506/refs/heads/main/Devoir1/datasets/07/train.csv')\n",
        "\n",
        "df_7[\"Type_of_Loan\"] = df_7[\"Type_of_Loan\"].replace(\"and\", \"\", regex=True).str.split(\",\") # replace \"and\" with empty string because there is already a comma\n",
        "df_7 = df_7.explode(\"Type_of_Loan\") # split Type_of_Loan into multiple rows\n",
        "\n",
        "df_7[\"Type_of_Loan\"].value_counts().plot(kind='bar')\n",
        "plt.show()"
      ]
    },
    {
      "cell_type": "markdown",
      "id": "754d6a64",
      "metadata": {},
      "source": [
        "### Imputation Strategies\n",
        "\n",
        "#### We could use the following imputation strategies for each attribute:\n",
        "\n",
        "> 2. Dermatology Dataset (Multi-class classification)\n",
        "> \n",
        "> - Age: Replacement with mean as the data seems to be normally distributed with mean of 36.3 and median 35\n",
        ">\n",
        "> 7. Credit score classification\n",
        ">\n",
        "> - Drop the \"**Name**\" attribute since it's not useful for analysis.\n",
        "> - Use **KNN imputation** for \"**Monthly Inhand Salary**,\" \"**Amount Invested Monthly**,\" and \"**Monthly Balance**\" because these values can likely be predicted based on other attributes.\n",
        "> - Replace missing values with the **median** for \"**Number of Delayed Payments**\" and \"**Number of Credit Inquiries**\" due to the presence of high outliers.\n",
        "> - For \"**Type of Loan**', we will **not apply any imputation** strategies as people can have multiple loans and there does not seem to be a clear trend or pattern in the data.\n"
      ]
    },
    {
      "cell_type": "markdown",
      "id": "71d14306",
      "metadata": {},
      "source": [
        "2. **Sélectionnez et familiarisez-vous avec une tâche de classification :** Choisissez l'un des jeux de données fournis pour une exploration plus approfondie. Il est conseillé de sélectionner un jeu de données contenant un nombre suffisamment important d'exemples, idéalement environ 1 000, pour garantir des résultats robustes lors de l'application des algorithmes d'apprentissage automatique dans le devoir suivant.\n",
        "\n",
        "    2.1 Quel est l'objectif de la tâche ? Est-elle destinée à une application spécifique ? Possédez-vous une expertise dans ce domaine d'application particulier ?\n"
      ]
    },
    {
      "cell_type": "markdown",
      "id": "e310d3e2",
      "metadata": {},
      "source": [
        "> I chose the wine quality dataset (5). The dataset aims at creating a model to predict the quality of a wine based on the various chemicals present in it. This can be considered as a **classification task** since the quality attribute has discrete integer values."
      ]
    },
    {
      "cell_type": "code",
      "execution_count": null,
      "id": "3571e616",
      "metadata": {},
      "outputs": [],
      "source": [
        "# Votre code ici\n",
        "chosen = 5\n",
        "url = \"https://raw.githubusercontent.com/K-nCh-n/CSI4506/refs/heads/main/Devoir1/datasets/\" + dataset_directories[chosen-1]\n",
        "df = pd.read_csv(url)\n",
        "df.head()"
      ]
    },
    {
      "cell_type": "code",
      "execution_count": null,
      "id": "4e26003f",
      "metadata": {},
      "outputs": [],
      "source": [
        "df.describe()"
      ]
    },
    {
      "cell_type": "markdown",
      "id": "c4623f8f",
      "metadata": {},
      "source": [
        "3. **Analyse des attributs** : \n",
        "\n",
        "    3.1 Déterminez quels attributs manquent d'informativité et devraient être exclus pour améliorer l'efficacité de l'analyse d'apprentissage automatique. Si toutes les caractéristiques sont jugées pertinentes, indiquez explicitement cette conclusion.\n",
        "\n",
        "    3.2 Examinez la distribution de chaque attribut (colonne) au sein de l'ensemble de données. Utilisez des histogrammes ou des boxplots pour visualiser les distributions, en identifiant les motifs sous-jacents ou les valeurs aberrantes.\n"
      ]
    },
    {
      "cell_type": "code",
      "execution_count": 8,
      "id": "a5da9eb6",
      "metadata": {},
      "outputs": [],
      "source": [
        "# the id attribute can be dropped as it does not provide any useful information\n",
        "df.drop('Id', axis=1, inplace=True)"
      ]
    },
    {
      "cell_type": "code",
      "execution_count": null,
      "id": "357e1fd6",
      "metadata": {},
      "outputs": [],
      "source": [
        "# Votre code ici\n",
        "plt.subplots(4, 3, figsize=(12,12))\n",
        "for i, attribute in enumerate(df.columns):\n",
        "    plt.subplot(4, 3, i+1)\n",
        "    plt.hist(df[attribute])\n",
        "    plt.title(attribute)"
      ]
    },
    {
      "cell_type": "code",
      "execution_count": null,
      "id": "d7cd497f",
      "metadata": {},
      "outputs": [],
      "source": [
        "plt.subplots(4, 3, figsize=(12,12))\n",
        "for i, attribute in enumerate(df.columns):\n",
        "    plt.subplot(4, 3, i+1)\n",
        "    plt.boxplot(df[attribute])\n",
        "    plt.title(attribute)"
      ]
    },
    {
      "cell_type": "markdown",
      "id": "2e6740c3",
      "metadata": {},
      "source": [
        "> | Attribute              | Description                                                             |\n",
        "> |------------------------|-------------------------------------------------------------------------|\n",
        "> | Fixed Acidity          | Right skew (positive skew). Some outliers on the higher side.          |\n",
        "> | Volatile Acidity       | Peaks at lower values, with a few higher outliers.                     |\n",
        "> | Citric Acid            | Right skew (positive skew), with some outliers on the higher end.      |\n",
        "> | Residual Sugar         | Mostly low values, with many high outliers.                            |\n",
        "> | Chlorides              | Mostly low values, with many high outliers.                            |\n",
        "> | Free Sulfur Dioxide    | Right skew (positive skew), with some high outliers.                   |\n",
        "> | Total Sulfur Dioxide   | Right skew (positive skew), with many high outliers.                   |\n",
        "> | Density                | Looks like a narrow normal distribution with outliers on both sides.   |\n",
        "> | pH                     | Normal distribution with some outliers.                                |\n",
        "> | Sulphates              | Mostly low, with several high outliers.                                |\n",
        "> | Alcohol                | Right skew (positive skew), with some high outliers.                   |\n",
        "> "
      ]
    },
    {
      "cell_type": "code",
      "execution_count": 11,
      "id": "92403a29",
      "metadata": {},
      "outputs": [],
      "source": [
        "def sns_pairplot(df, col):\n",
        "    df[col] = df[col].astype('category')\n",
        "    sns.pairplot(df, hue=col)\n",
        "    plt.suptitle(f\"Dataset {chosen} - Pairplot\")\n",
        "    plt.show()\n",
        "# sns_pairplot(df, \"quality\")"
      ]
    },
    {
      "cell_type": "markdown",
      "id": "77b226a0",
      "metadata": {},
      "source": [
        "4. **Analyse de la distribution des classes** : Examinez la distribution des étiquettes de classe au sein jeu de données. Utilisez des diagrammes en barres pour visualiser la fréquence des instances pour chaque classe et évaluez si l'ensemble de données est équilibré ou déséquilibré.\n"
      ]
    },
    {
      "cell_type": "code",
      "execution_count": null,
      "id": "e2a948b6",
      "metadata": {},
      "outputs": [],
      "source": [
        "# Votre code ici\n",
        "plt.hist(df[\"quality\"])"
      ]
    },
    {
      "cell_type": "markdown",
      "id": "6161b980",
      "metadata": {},
      "source": [
        "> ### As mentioned in the dataset description, we can see that the set is unbalanced and contains more \"average\" wines that really good or really bad ones"
      ]
    },
    {
      "cell_type": "markdown",
      "id": "f56cdf9a",
      "metadata": {},
      "source": [
        "5. **Prétraitement** : \n",
        "\n",
        "    5.1 Pour les attributs numériques, déterminez la meilleure transformation à utiliser. Indiquez la transformation qui semble appropriée et pourquoi. Incluez le code illustrant comment appliquer la transformation. Pour au moins un attribut, montrez la distribution avant et après la transformation. Voir [Prétraitement des données](https://scikit-learn.org/stable/modules/preprocessing.html).\n",
        "\n",
        "    5.2 Pour les attributs catégoriels, montrez comment appliquer [l'encodage one-hot](https://scikit-learn.org/stable/modules/generated/sklearn.preprocessing.OneHotEncoder.html). Si votre ensemble de données ne contient pas de données catégorielles, montrez comment appliquer l'encodeur one-hot à l'étiquette (variable cible).\n"
      ]
    },
    {
      "cell_type": "code",
      "execution_count": null,
      "id": "d4263558",
      "metadata": {},
      "outputs": [],
      "source": [
        "# Votre code ici\n",
        "plt.subplots(1, 2, figsize=(15, 5))\n",
        "\n",
        "attribute = 'total sulfur dioxide'\n",
        "plt.subplot(1, 2, 1)\n",
        "sns.histplot(df[attribute])\n",
        "plt.title(attribute)\n",
        "\n",
        "from sklearn import preprocessing\n",
        "df_after = df.copy()\n",
        "df_after[attribute] = preprocessing.PowerTransformer().fit_transform(df[[attribute]])\n",
        "\n",
        "plt.subplot(1, 2, 2)\n",
        "sns.histplot(df_after[attribute])\n",
        "plt.title(attribute)\n"
      ]
    },
    {
      "cell_type": "markdown",
      "id": "7bcb492e",
      "metadata": {},
      "source": [
        "6. **Données d'entraînement et cible** : Définissez la variable Python `X` pour désigner les données et `y` pour désigner la classe cible. Assurez-vous de sélectionner uniquement les caractéristiques informatives.\n"
      ]
    },
    {
      "cell_type": "code",
      "execution_count": 14,
      "id": "4a6c130f",
      "metadata": {},
      "outputs": [],
      "source": [
        "# Votre code ici\n",
        "X  = df.drop('quality', axis=1) #id attribute has already been dropped previously\n",
        "y = df['quality']"
      ]
    },
    {
      "cell_type": "markdown",
      "id": "a7b6af9c",
      "metadata": {},
      "source": [
        "7. **Ensembles d'entraînement et de test** : Divisez l'ensemble de données en ensembles d'entraînement et de test. Réservez 20 % des données pour les tests.\n"
      ]
    },
    {
      "cell_type": "code",
      "execution_count": 15,
      "id": "c42da7dc",
      "metadata": {},
      "outputs": [],
      "source": [
        "# Votre code ici\n",
        "from sklearn.model_selection import train_test_split\n",
        "X_train, X_test, y_train, y_test = train_test_split(X, y, test_size=0.2, random_state=42)"
      ]
    },
    {
      "cell_type": "markdown",
      "id": "f48ab8f5",
      "metadata": {},
      "source": [
        "--------------------------------------------------------------------------\n",
        "\n",
        "# Références\n",
        "\n",
        "Assurez-vous de fournir des références à TOUTES les sources utilisées (articles, code, algorithmes).\n",
        "\n",
        "## Transcription AI\n",
        "**Indice :** Pour partager un lien vers votre notebook Colab, cliquez sur \"share\" en haut à droite. Ensuite, sous *Accès général*, changez *Restreint* en \"Toute personne avec le lien\"."
      ]
    }
  ],
  "metadata": {
    "kernelspec": {
      "display_name": "Python 3 (ipykernel)",
      "language": "python",
      "name": "python3"
    },
    "language_info": {
      "codemirror_mode": {
        "name": "ipython",
        "version": 3
      },
      "file_extension": ".py",
      "mimetype": "text/x-python",
      "name": "python",
      "nbconvert_exporter": "python",
      "pygments_lexer": "ipython3",
      "version": "3.9.6"
    }
  },
  "nbformat": 4,
  "nbformat_minor": 5
}
