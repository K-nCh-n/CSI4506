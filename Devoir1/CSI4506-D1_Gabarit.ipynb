{
  "cells": [
    {
      "cell_type": "markdown",
      "metadata": {},
      "source": [
        "**CSI 4506 Introduction à l'Intelligence Artificielle** <br/>\n",
        "*Devoir 1 : Préparation des Données*\n",
        "\n",
        "# Identification\n",
        "\n",
        "Nom : <br/>\n",
        "Numéro d'étudiant :\n",
        "\n",
        "# Analyse Exploratoire\n",
        "\n",
        "## Importer les bibliothèques importantes\n"
      ],
      "id": "600e880c"
    },
    {
      "cell_type": "code",
      "metadata": {},
      "source": [
        "# Votre code ici"
      ],
      "id": "d9ce9db3",
      "execution_count": null,
      "outputs": []
    },
    {
      "cell_type": "markdown",
      "metadata": {},
      "source": [
        "## Lire un de données\n",
        "\n",
        "Comme indiqué dans la description du devoir, il doit être possible pour les correcteurs d'exécuter votre notebook sans nécessiter de téléchargements.\n",
        "\n",
        "Pour faciliter l'accès à l'ensemble de données sans nécessiter de téléchargements, utilisez les données fournies dans le dépôt public GitHub et fournissez un lien vers la version brute de l'ensemble de données.\n",
        "\n",
        "Le lien vers la version brute est le suivant :\n",
        "\n",
        "*https://raw.githubusercontent.com/NOM_UTILISATEUR_GITHUB/NOM_DÉPÔT/main/NOM_JEU_DONNÉES.csv*\n",
        "\n",
        "Par exemple :\n",
        "\n",
        "[https://github.com/turcotte/csi4106-f24/blob/main/assignments-data/a1/01/glass.csv](https://github.com/turcotte/csi4106-f24/blob/main/assignments-data/a1/01/glass.csv)\n",
        "\n",
        "Maintenant, fournissez le lien vers VOTRE ensemble de données et lisez-le :\n"
      ],
      "id": "62cf8adb"
    },
    {
      "cell_type": "code",
      "metadata": {},
      "source": [
        "url = # fournissez le lien vers la version brute de l'ensemble de données. Vous devez fournir un lien vers votre propre dépôt GitHub. NE PAS utiliser le lien fourni en exemple.\n",
        "\n",
        "dataset = pd.read_csv(url)"
      ],
      "id": "50c32bcd",
      "execution_count": null,
      "outputs": []
    },
    {
      "cell_type": "markdown",
      "metadata": {},
      "source": [
        "## Directives\n",
        "\n",
        "Les questions suivantes sont pour le Devoir 1. Sous chaque question, nous avons fourni une cellule de code initiale. Vous êtes encouragés à ajouter des cellules de code supplémentaires pour maintenir une séparation logique de votre code. Par exemple, placez la définition d'une fonction dans une cellule et son exécution dans une cellule suivante. Cette approche aidera à préserver la clarté et à améliorer la lisibilité en évitant de placer trop de code dans une seule cellule.\n",
        "\n",
        "1. **Analyse des valeurs manquantes** : Examinez les jeux de données pour identifier et évaluer les valeurs manquantes dans divers attributs. Les valeurs manquantes peuvent être représentées par des symboles tels que '?', des chaînes vides ou d'autres substituts.\n",
        "\n",
        "    1.1 Parmi les options listées, quels sont les jeux de données qui contiennent des valeurs manquantes ? Plus précisément, quel attribut ou quels attributs ont des valeurs manquantes ?\n",
        "\n",
        "    1.2 Décrivez la méthodologie utilisée pour cette investigation, et fournissez le code correspondant.\n",
        "\n",
        "    1.3 L'imputation des données consiste à remplacer les données manquantes ou incomplètes par des valeurs substituées pour préserver l'intégrité de l'ensemble de données en vue d'analyses ultérieures. Proposez des stratégies d'imputation pour chaque attribut avec des valeurs manquantes.\n"
      ],
      "id": "80599bb5"
    },
    {
      "cell_type": "code",
      "metadata": {},
      "source": [
        "# Votre code ici"
      ],
      "id": "c8636efb",
      "execution_count": null,
      "outputs": []
    },
    {
      "cell_type": "markdown",
      "metadata": {},
      "source": [
        "2. **Sélectionnez et familiarisez-vous avec une tâche de classification :** Choisissez l'un des jeux de données fournis pour une exploration plus approfondie. Il est conseillé de sélectionner un jeu de données contenant un nombre suffisamment important d'exemples, idéalement environ 1 000, pour garantir des résultats robustes lors de l'application des algorithmes d'apprentissage automatique dans le devoir suivant.\n",
        "\n",
        "    2.1 Quel est l'objectif de la tâche ? Est-elle destinée à une application spécifique ? Possédez-vous une expertise dans ce domaine d'application particulier ?\n"
      ],
      "id": "71d14306"
    },
    {
      "cell_type": "code",
      "metadata": {},
      "source": [
        "# Votre code ici"
      ],
      "id": "3571e616",
      "execution_count": null,
      "outputs": []
    },
    {
      "cell_type": "markdown",
      "metadata": {},
      "source": [
        "3. **Analyse des attributs** : \n",
        "\n",
        "    3.1 Déterminez quels attributs manquent d'informativité et devraient être exclus pour améliorer l'efficacité de l'analyse d'apprentissage automatique. Si toutes les caractéristiques sont jugées pertinentes, indiquez explicitement cette conclusion.\n",
        "\n",
        "    3.2 Examinez la distribution de chaque attribut (colonne) au sein de l'ensemble de données. Utilisez des histogrammes ou des boxplots pour visualiser les distributions, en identifiant les motifs sous-jacents ou les valeurs aberrantes.\n"
      ],
      "id": "c4623f8f"
    },
    {
      "cell_type": "code",
      "metadata": {},
      "source": [
        "# Votre code ici"
      ],
      "id": "357e1fd6",
      "execution_count": null,
      "outputs": []
    },
    {
      "cell_type": "markdown",
      "metadata": {},
      "source": [
        "4. **Analyse de la distribution des classes** : Examinez la distribution des étiquettes de classe au sein jeu de données. Utilisez des diagrammes en barres pour visualiser la fréquence des instances pour chaque classe et évaluez si l'ensemble de données est équilibré ou déséquilibré.\n"
      ],
      "id": "77b226a0"
    },
    {
      "cell_type": "code",
      "metadata": {},
      "source": [
        "# Votre code ici"
      ],
      "id": "e2a948b6",
      "execution_count": null,
      "outputs": []
    },
    {
      "cell_type": "markdown",
      "metadata": {},
      "source": [
        "5. **Prétraitement** : \n",
        "\n",
        "    5.1 Pour les attributs numériques, déterminez la meilleure transformation à utiliser. Indiquez la transformation qui semble appropriée et pourquoi. Incluez le code illustrant comment appliquer la transformation. Pour au moins un attribut, montrez la distribution avant et après la transformation. Voir [Prétraitement des données](https://scikit-learn.org/stable/modules/preprocessing.html).\n",
        "\n",
        "    5.2 Pour les attributs catégoriels, montrez comment appliquer [l'encodage one-hot](https://scikit-learn.org/stable/modules/generated/sklearn.preprocessing.OneHotEncoder.html). Si votre ensemble de données ne contient pas de données catégorielles, montrez comment appliquer l'encodeur one-hot à l'étiquette (variable cible).\n"
      ],
      "id": "f56cdf9a"
    },
    {
      "cell_type": "code",
      "metadata": {},
      "source": [
        "# Votre code ici"
      ],
      "id": "d4263558",
      "execution_count": null,
      "outputs": []
    },
    {
      "cell_type": "markdown",
      "metadata": {},
      "source": [
        "6. **Données d'entraînement et cible** : Définissez la variable Python `X` pour désigner les données et `y` pour désigner la classe cible. Assurez-vous de sélectionner uniquement les caractéristiques informatives.\n"
      ],
      "id": "7bcb492e"
    },
    {
      "cell_type": "code",
      "metadata": {},
      "source": [
        "# Votre code ici"
      ],
      "id": "4a6c130f",
      "execution_count": null,
      "outputs": []
    },
    {
      "cell_type": "markdown",
      "metadata": {},
      "source": [
        "7. **Ensembles d'entraînement et de test** : Divisez l'ensemble de données en ensembles d'entraînement et de test. Réservez 20 % des données pour les tests.\n"
      ],
      "id": "a7b6af9c"
    },
    {
      "cell_type": "code",
      "metadata": {},
      "source": [
        "# Votre code ici"
      ],
      "id": "c42da7dc",
      "execution_count": null,
      "outputs": []
    },
    {
      "cell_type": "markdown",
      "metadata": {},
      "source": [
        "--------------------------------------------------------------------------\n",
        "\n",
        "# Références\n",
        "\n",
        "Assurez-vous de fournir des références à TOUTES les sources utilisées (articles, code, algorithmes).\n",
        "\n",
        "## Transcription AI\n",
        "**Indice :** Pour partager un lien vers votre notebook Colab, cliquez sur \"share\" en haut à droite. Ensuite, sous *Accès général*, changez *Restreint* en \"Toute personne avec le lien\"."
      ],
      "id": "f48ab8f5"
    }
  ],
  "metadata": {
    "kernelspec": {
      "name": "python3",
      "language": "python",
      "display_name": "Python 3 (ipykernel)"
    }
  },
  "nbformat": 4,
  "nbformat_minor": 5
}