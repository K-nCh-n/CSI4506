{
  "cells": [
    {
      "cell_type": "markdown",
      "metadata": {},
      "source": [
        "**CSI 4506 Introduction à l'intelligence artificielle** <br/>\n",
        "*Devoir 2: apprentissage automatique*\n",
        "\n",
        "# Identification\n",
        "\n",
        "Nom: <br/>\n",
        "Numéro d'étudiant :\n",
        "\n",
        "Nom: <br/>\n",
        "Numéro d'étudiant :\n",
        "\n",
        "# 1. Analyse exploratoire\n",
        "\n",
        "## Exploration des données\n",
        "\n",
        "Dans ce devoir, nous utiliserons le jeu de données de prédiction du diabète, accessible via [Diabetes Prediction Dataset](https://www.kaggle.com/datasets/iammustafatz/diabetes-prediction-dataset/data). Pour réduire la complexité liée à l'exigence de connexion de Kaggle, le jeu de données a été mis à disposition sur un dépôt GitHub public :\n",
        "\n",
        "- [github.com/turcotte/csi4106-f24/tree/main/assignments-data/a2](https://github.com/turcotte/csi4106-f24/tree/main/assignments-data/a2)\n",
        "\n",
        "Vous pouvez accéder et lire le jeu de données directement depuis ce dépôt GitHub dans votre notebook Jupyter."
      ]
    },
    {
      "cell_type": "code",
      "metadata": {},
      "source": [
        "# Cellule de code"
      ],
      "execution_count": null,
      "outputs": []
    },
    {
      "cell_type": "markdown",
      "metadata": {},
      "source": [
        "1. **Charger le jeu de données et fournir un résumé de sa structure** :\n",
        "\n",
        "    - Décrivez les attributs (colonnes), leurs types de données et la variable cible."
      ]
    },
    {
      "cell_type": "code",
      "metadata": {},
      "source": [
        "# Cellule de code"
      ],
      "execution_count": null,
      "outputs": []
    },
    {
      "cell_type": "markdown",
      "metadata": {},
      "source": [
        "2. **Analyse de la distribution des attributs** :\n",
        "\n",
        "    - Examinez la distribution de chaque attribut à l'aide de visualisations appropriées telles que des histogrammes et des boxplots. Discutez des informations obtenues, y compris la présence de valeurs aberrantes."
      ]
    },
    {
      "cell_type": "code",
      "metadata": {},
      "source": [
        "# Cellule de code"
      ],
      "execution_count": null,
      "outputs": []
    },
    {
      "cell_type": "markdown",
      "metadata": {},
      "source": [
        "3. **Distribution de la variable cible** :\n",
        "\n",
        "    - Analysez la distribution de la variable cible pour identifier les déséquilibres de classes. Utilisez des diagrammes en barres pour visualiser les fréquences des classes."
      ]
    },
    {
      "cell_type": "code",
      "metadata": {},
      "source": [
        "# Cellule de code"
      ],
      "execution_count": null,
      "outputs": []
    },
    {
      "cell_type": "markdown",
      "metadata": {},
      "source": [
        "4. **Fractionnement des données** :\n",
        "\n",
        "    - Divisez le jeu de données en ensembles d'entraînement (80 %) et de test (20 %) en utilisant la méthode du holdout.\n",
        "\n",
        "    - Assurez-vous que ce fractionnement intervient avant tout prétraitement afin d'éviter les fuites de données."
      ]
    },
    {
      "cell_type": "code",
      "metadata": {},
      "source": [
        "# Cellule de code"
      ],
      "execution_count": null,
      "outputs": []
    },
    {
      "cell_type": "markdown",
      "metadata": {},
      "source": [
        "## Prétraitement des données\n",
        "\n",
        "5. **Encodage des variables catégoriques** :\n",
        "\n",
        "    - Encodez les variables catégoriques. Justifiez la méthode choisie."
      ]
    },
    {
      "cell_type": "code",
      "metadata": {},
      "source": [
        "# Cellule de code"
      ],
      "execution_count": null,
      "outputs": []
    },
    {
      "cell_type": "markdown",
      "metadata": {},
      "source": [
        "6. **Normalisation/Standardisation des attributs numériques** :\n",
        "\n",
        "    - Normalisez ou standardisez les attributs numériques si nécessaire. Décrivez la technique utilisée (par exemple, le scaling Min-Max, StandardScaler) et expliquez pourquoi elle est appropriée pour ce jeu de données.\n",
        "\n",
        "    - Assurez-vous que cette technique est appliquée uniquement aux données d'entraînement, avec la même transformation appliquée ensuite aux données de test sans nouvel ajustement."
      ]
    },
    {
      "cell_type": "code",
      "metadata": {},
      "source": [
        "# Cellule de code"
      ],
      "execution_count": null,
      "outputs": []
    },
    {
      "cell_type": "markdown",
      "metadata": {},
      "source": [
        "## Développement et évaluation des modèles\n",
        "\n",
        "7. **Développement des modèles** :\n",
        "\n",
        "    - Implémentez les modèles d'apprentissage automatique abordés en classe : arbres de décision, K-Nearest Neighbors (KNN) et régression logistique. Utilisez les paramètres par défaut de scikit-learn comme base pour entraîner chaque modèle."
      ]
    },
    {
      "cell_type": "code",
      "metadata": {},
      "source": [
        "# Cellule de code"
      ],
      "execution_count": null,
      "outputs": []
    },
    {
      "cell_type": "markdown",
      "metadata": {},
      "source": [
        "8. **Évaluation des modèles** :\n",
        "\n",
        "    - Utilisez la validation croisée pour évaluer chaque modèle, en justifiant votre choix du nombre de plis.\n",
        "\n",
        "    - Évaluez les modèles à l'aide de métriques telles que la précision, le rappel et le score F1."
      ]
    },
    {
      "cell_type": "code",
      "metadata": {},
      "source": [
        "# Cellule de code"
      ],
      "execution_count": null,
      "outputs": []
    },
    {
      "cell_type": "markdown",
      "metadata": {},
      "source": [
        "## Optimisation des hyperparamètres\n",
        "\n",
        "9. **Exploration et évaluation des performances :**\n",
        "\n",
        "    - Étudiez l'impact de la variation des valeurs des hyperparamètres sur les performances de chaque modèle.\n",
        "\n",
        "    - Concentrez-vous sur les hyperparamètres pertinents suivants pour chaque modèle :\n",
        "\n",
        "        - [DecisionTreeClassifier](https://scikit-learn.org/dev/modules/generated/sklearn.tree.DecisionTreeClassifier.html) : `criterion` et `max_depth`.\n",
        "  \n",
        "        - [LogisticRegression](https://scikit-learn.org/1.5/modules/generated/sklearn.linear_model.LogisticRegression.html) : `penalty`, `max_iter`, et `tol`.\n",
        "  \n",
        "        - [KNeighborsClassifier](https://scikit-learn.org/dev/modules/generated/sklearn.neighbors.KNeighborsClassifier.html) : `n_neighbors` et `weights`.\n",
        "\n",
        "    - Employez une stratégie de recherche en grille ou utilisez les méthodes intégrées de scikit-learn pour évaluer exhaustivement toutes les combinaisons des valeurs d'hyperparamètres. La validation croisée doit être utilisée pour évaluer chaque combinaison.\n",
        "\n",
        "    - Quantifiez les performances de chaque configuration d'hyperparamètres en utilisant des métriques telles que la précision, le rappel et le score F1.\n",
        "\n",
        "    - Affichez les résultats dans un format tabulaire ou graphique (par exemple, graphiques en ligne, diagrammes en barres) pour démontrer efficacement l'influence des variations des hyperparamètres sur les performances du modèle.\n",
        "\n",
        "    - Spécifiez les valeurs par défaut de chaque hyperparamètre testé.\n",
        "\n",
        "    - Analysez les résultats et offrez des perspectives sur les configurations d'hyperparamètres ayant obtenu les meilleures performances pour chaque modèle."
      ]
    },
    {
      "cell_type": "code",
      "metadata": {},
      "source": [
        "# Cellule de code"
      ],
      "execution_count": null,
      "outputs": []
    },
    {
      "cell_type": "markdown",
      "metadata": {},
      "source": [
        "## Analyse des résultats\n",
        "\n",
        "10. **Comparaison des modèles** :\n",
        "\n",
        "    - Comparez les résultats obtenus pour chaque modèle.\n",
        "\n",
        "    - Discutez des différences observées dans les performances des modèles et fournissez des explications potentielles. Considérez des aspects tels que la complexité des modèles, le déséquilibre des données, le surapprentissage et l'impact du réglage des paramètres sur les résultats globaux.\n",
        "\n",
        "    - Fournissez des recommandations sur le(s) modèle(s) à choisir pour cette tâche et justifiez vos choix en fonction des résultats de l'analyse.\n",
        "\n",
        "    - Entraînez le(s) modèle(s) recommandé(s) en utilisant les valeurs optimales des paramètres identifiés lors de l'optimisation des paramètres. Appliquez ensuite le modèle entraîné aux données de test. Documentez vos observations de manière détaillée. Évaluez spécifiquement si les résultats dérivés de la validation croisée sont cohérents avec ceux obtenus sur le jeu de test."
      ]
    },
    {
      "cell_type": "code",
      "metadata": {},
      "source": [
        "# Cellule de code"
      ],
      "execution_count": null,
      "outputs": []
    },
    {
      "cell_type": "markdown",
      "metadata": {},
      "source": [
        "# 2. Documentation de l'analyse exploratoire\n",
        "\n",
        "Le rapport doit documenter de manière complète le processus suivi pendant ce devoir. Le notebook Jupyter doit inclure les éléments suivants :\n",
        "\n",
        "- Votre nom(s), numéro(s) d'étudiant.e.s et un titre de rapport.\n",
        "- Expliquez comment les tâches ont été réparties entre les membres. Comment avez-vous fait en sorte que les deux personnes atteignent les objectifs d'apprentissage ?\n",
        "- Une section pour chaque étape de l'analyse exploratoire, contenant le code Python pertinent et les explications ou résultats.\n",
        "  - Pour les sections nécessitant du code Python, incluez le code dans une cellule.\n",
        "  - Pour les sections nécessitant des explications ou des résultats, incluez-les dans une cellule distincte ou en combinaison avec les cellules de code.\n",
        "- Assurez une séparation logique du code dans différentes cellules. Par exemple, la définition d'une fonction doit se trouver dans une cellule et son exécution dans une autre. Évitez de placer trop de code dans une seule cellule pour maintenir la clarté et la lisibilité.\n",
        "- Le notebook que vous soumettez doit inclure les résultats de l'exécution, y compris les graphiques, en veillant à ce que l'assistant d'enseignement puisse évaluer le notebook sans avoir à exécuter le code.\n",
        "\n",
        "# Ressources"
      ]
    }
  ],
  "metadata": {
    "kernelspec": {
      "name": "python3",
      "language": "python",
      "display_name": "Python 3 (ipykernel)"
    }
  },
  "nbformat": 4,
  "nbformat_minor": 4
}